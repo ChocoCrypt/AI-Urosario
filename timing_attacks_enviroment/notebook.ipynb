{
 "cells": [
  {
   "cell_type": "code",
   "execution_count": 2,
   "id": "baking-nancy",
   "metadata": {},
   "outputs": [],
   "source": [
    "from timing_enviroment import *\n",
    "from pprint import pprint\n",
    "from methods import *"
   ]
  },
  {
   "cell_type": "markdown",
   "id": "hindu-worthy",
   "metadata": {},
   "source": [
    "# Presentación del ambiente\n"
   ]
  },
  {
   "cell_type": "code",
   "execution_count": 3,
   "id": "acceptable-polyester",
   "metadata": {},
   "outputs": [
    {
     "data": {
      "text/plain": [
       "''"
      ]
     },
     "execution_count": 3,
     "metadata": {},
     "output_type": "execute_result"
    }
   ],
   "source": [
    "timing = SideChannel_Game(plot= True)\n",
    "s = timing.estado_inicial\n",
    "s"
   ]
  },
  {
   "cell_type": "code",
   "execution_count": 4,
   "id": "egyptian-attendance",
   "metadata": {},
   "outputs": [
    {
     "name": "stdout",
     "output_type": "stream",
     "text": [
      "[(0, 'A'), (1, 'B'), (2, 'C'), (3, 'D'), (4, 'E'), (5, 'F'), (6, 'G'), (7, 'H'), (8, 'I'), (9, 'J'), (10, 'K'), (11, 'L'), (12, 'M'), (13, 'N'), (14, 'O'), (15, 'P'), (16, 'Q'), (17, 'R'), (18, 'S'), (19, 'T'), (20, 'U'), (21, 'V'), (22, 'W'), (23, 'X'), (24, 'Y'), (25, 'Z')]\n"
     ]
    }
   ],
   "source": [
    "# Las transiciones posibles para una acción son las posibles letras que se le pueden concatenar.\n",
    "acciones = timing.acciones_aplicables(s)\n",
    "transiciones = [timing.transicion(s,i) for i in acciones ]\n",
    "print(list(zip(acciones, transiciones)))"
   ]
  },
  {
   "cell_type": "code",
   "execution_count": 5,
   "id": "everyday-labor",
   "metadata": {},
   "outputs": [
    {
     "name": "stdout",
     "output_type": "stream",
     "text": [
      "False True False\n"
     ]
    }
   ],
   "source": [
    "# El caracter retornará verdadero si aprueba el test de contraseña.\n",
    "s1 = \"MAL\"\n",
    "s2 = \"BIEN\"\n",
    "s3 = \"GOOD\"\n",
    "print(timing.test_objetivo(s1) , timing.test_objetivo(s2) , timing.test_objetivo(s3))"
   ]
  },
  {
   "cell_type": "markdown",
   "id": "increasing-medium",
   "metadata": {},
   "source": [
    "# Evaluación de los métodos:\n",
    "## Problemas de la implementación de los métodos:\n",
    "1. Para implementar el problema como el problema de reconstruir el password mediante un arbol se tuvo el problema de que al intentar construir los pesos de las aristas la solución no converge con muestras menores a 5.000.000 iteraciones, por lo que construir un arbol en este problema no es viable y el problema se convierte en un problema de un entorno completamente observable.\n",
    "2. Los mejores algoritmos fueron tanto backtracking como greedy search, siendo el mejor greedy search. Sin embargo el algoritmo de greedy search puede fallar."
   ]
  },
  {
   "cell_type": "code",
   "execution_count": null,
   "id": "wound-dominant",
   "metadata": {},
   "outputs": [
    {
     "name": "stdout",
     "output_type": "stream",
     "text": [
      "crackeando longitud...\n"
     ]
    },
    {
     "name": "stderr",
     "output_type": "stream",
     "text": [
      "100%|███████████████████████████████████████████████████████████████████████████████████████████████████| 50/50 [00:03<00:00, 16.48it/s]\n"
     ]
    },
    {
     "data": {
      "image/png": "[encoded data removed]",
      "text/plain": [
       "<Figure size 432x288 with 1 Axes>"
      ]
     },
     "metadata": {
      "needs_background": "light"
     },
     "output_type": "display_data"
    },
    {
     "name": "stdout",
     "output_type": "stream",
     "text": [
      "la longitud de la llave es 4  \n",
      "calculando resultados...\n"
     ]
    },
    {
     "name": "stderr",
     "output_type": "stream",
     "text": [
      "100%|███████████████████████████████████████████████████████████████████████████████████████████████████| 26/26 [03:28<00:00,  8.01s/it]\n"
     ]
    },
    {
     "name": "stdout",
     "output_type": "stream",
     "text": [
      "B\n",
      "calculando resultados...\n"
     ]
    },
    {
     "name": "stderr",
     "output_type": "stream",
     "text": [
      "100%|███████████████████████████████████████████████████████████████████████████████████████████████████| 26/26 [03:41<00:00,  8.51s/it]\n"
     ]
    },
    {
     "name": "stdout",
     "output_type": "stream",
     "text": [
      "BI\n",
      "calculando resultados...\n"
     ]
    },
    {
     "name": "stderr",
     "output_type": "stream",
     "text": [
      " 62%|████████████████████████████████████████████████████████████▉                                      | 16/26 [02:25<01:30,  9.06s/it]"
     ]
    }
   ],
   "source": [
    "limited_greedy_search(timing)"
   ]
  }
 ],
 "metadata": {
  "kernelspec": {
   "display_name": "Python 3 (ipykernel)",
   "language": "python",
   "name": "python3"
  },
  "language_info": {
   "codemirror_mode": {
    "name": "ipython",
    "version": 3
   },
   "file_extension": ".py",
   "mimetype": "text/x-python",
   "name": "python",
   "nbconvert_exporter": "python",
   "pygments_lexer": "ipython3",
   "version": "3.9.2"
  }
 },
 "nbformat": 4,
 "nbformat_minor": 5
}

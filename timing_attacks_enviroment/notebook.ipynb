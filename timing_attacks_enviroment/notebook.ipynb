{
 "cells": [
  {
   "cell_type": "code",
   "execution_count": 1,
   "id": "baking-nancy",
   "metadata": {},
   "outputs": [],
   "source": [
    "from timing_enviroment import *\n",
    "from pprint import pprint\n",
    "from methods import *"
   ]
  },
  {
   "cell_type": "markdown",
   "id": "hindu-worthy",
   "metadata": {},
   "source": [
    "# Presentación del ambiente\n"
   ]
  },
  {
   "cell_type": "code",
   "execution_count": 2,
   "id": "acceptable-polyester",
   "metadata": {},
   "outputs": [
    {
     "data": {
      "text/plain": [
       "''"
      ]
     },
     "execution_count": 2,
     "metadata": {},
     "output_type": "execute_result"
    }
   ],
   "source": [
    "timing = SideChannel_Game(plot= True)\n",
    "s = timing.estado_inicial\n",
    "s"
   ]
  },
  {
   "cell_type": "code",
   "execution_count": 3,
   "id": "egyptian-attendance",
   "metadata": {},
   "outputs": [
    {
     "name": "stdout",
     "output_type": "stream",
     "text": [
      "[(0, 'A'), (1, 'B'), (2, 'C'), (3, 'D'), (4, 'E'), (5, 'F'), (6, 'G'), (7, 'H'), (8, 'I'), (9, 'J'), (10, 'K'), (11, 'L'), (12, 'M'), (13, 'N'), (14, 'O'), (15, 'P'), (16, 'Q'), (17, 'R'), (18, 'S'), (19, 'T'), (20, 'U'), (21, 'V'), (22, 'W'), (23, 'X'), (24, 'Y'), (25, 'Z')]\n"
     ]
    }
   ],
   "source": [
    "# Las transiciones posibles para una acción son las posibles letras que se le pueden concatenar.\n",
    "acciones = timing.acciones_aplicables(s)\n",
    "transiciones = [timing.transicion(s,i) for i in acciones ]\n",
    "print(list(zip(acciones, transiciones)))"
   ]
  },
  {
   "cell_type": "code",
   "execution_count": 4,
   "id": "everyday-labor",
   "metadata": {},
   "outputs": [
    {
     "name": "stdout",
     "output_type": "stream",
     "text": [
      "False False True\n"
     ]
    }
   ],
   "source": [
    "# El caracter retornará verdadero si aprueba el test de contraseña.\n",
    "s1 = \"MAL\"\n",
    "s2 = \"BIEN\"\n",
    "s3 = \"ABC\"\n",
    "print(timing.test_objetivo(s1) , timing.test_objetivo(s2) , timing.test_objetivo(s3))"
   ]
  },
  {
   "cell_type": "markdown",
   "id": "increasing-medium",
   "metadata": {},
   "source": [
    "# Evaluación de los métodos:\n",
    "## Problemas de la implementación de los métodos:\n",
    "1. Para implementar el problema como el problema de reconstruir el password mediante un arbol se tuvo el problema de que al intentar construir los pesos de las aristas la solución no converge con muestras menores a 5.000.000 iteraciones, por lo que construir un arbol en este problema no es viable y el problema se convierte en un problema de un entorno completamente observable.\n",
    "32. Los mejores algoritmos fueron tanto backtracking como greedy search, siendo el mejor greedy search. Sin embargo el algoritmo de greedy search puede fallar."
   ]
  },
  {
   "cell_type": "markdown",
   "id": "peaceful-clark",
   "metadata": {},
   "source": [
    "# Implementación de greedy search o busqueda avara"
   ]
  },
  {
   "cell_type": "code",
   "execution_count": 11,
   "id": "equipped-criminal",
   "metadata": {},
   "outputs": [
    {
     "name": "stdout",
     "output_type": "stream",
     "text": [
      "calculando resultados...\n"
     ]
    },
    {
     "name": "stderr",
     "output_type": "stream",
     "text": [
      "100%|██████████████████████████████████████████████████████████████████████████████████████████| 26/26 [00:23<00:00,  1.13it/s]\n"
     ]
    },
    {
     "data": {
      "image/png": "[encoded data removed]",
      "text/plain": [
       "<Figure size 432x288 with 1 Axes>"
      ]
     },
     "metadata": {
      "needs_background": "light"
     },
     "output_type": "display_data"
    },
    {
     "name": "stdout",
     "output_type": "stream",
     "text": [
      "[(6.123583316802979e-07, 'A'),\n",
      " (6.957719326019287e-07, 'B'),\n",
      " (6.100049018859864e-07, 'C'),\n",
      " (6.161959171295166e-07, 'D'),\n",
      " (6.320433616638183e-07, 'E'),\n",
      " (6.131284236907959e-07, 'F'),\n",
      " (6.056277751922607e-07, 'G'),\n",
      " (6.673758029937744e-07, 'H'),\n",
      " (6.626369953155517e-07, 'I'),\n",
      " (6.322851181030273e-07, 'J'),\n",
      " (6.185355186462403e-07, 'K'),\n",
      " (6.262376308441162e-07, 'L'),\n",
      " (5.984466075897216e-07, 'M'),\n",
      " (6.136283874511719e-07, 'N'),\n",
      " (5.900852680206299e-07, 'O'),\n",
      " (6.29765510559082e-07, 'P'),\n",
      " (6.281852722167968e-07, 'Q'),\n",
      " (6.168160438537598e-07, 'R'),\n",
      " (6.347155570983886e-07, 'S'),\n",
      " (6.199502944946289e-07, 'T'),\n",
      " (6.261148452758789e-07, 'U'),\n",
      " (6.262834072113037e-07, 'V'),\n",
      " (6.177132129669189e-07, 'W'),\n",
      " (5.916411876678467e-07, 'X'),\n",
      " (6.379978656768799e-07, 'Y'),\n",
      " (5.917603969573974e-07, 'Z')]\n"
     ]
    }
   ],
   "source": [
    "def greedy_search(problema, iteraciones):                                                                                      \n",
    "    \"\"\"                                                                                                                        \n",
    "    Greedy search aplicado a la euristica definida como que el que mas se                                                      \n",
    "    demora es mejor.                                                                                                           \n",
    "    \"\"\"                                                                                                                        \n",
    "    estado_inicial = problema.estado_inicial                                                                                   \n",
    "    tam_llave = problema.crackear_longitud()                                                                                   \n",
    "    solved = False                                                                                                             \n",
    "    while(not solved):                                                                                                         \n",
    "        mejor_accion = np.argmax(problema.get_euristicas_tiempo(estado_inicial , tam_llave, iteraciones))                      \n",
    "        estado_inicial = problema.transicion(estado_inicial , mejor_accion)                                                    \n",
    "        print(estado_inicial)                                                                                                  \n",
    "        solved = problema.test_objetivo(estado_inicial)                                                                        \n",
    "    print(f\"Le pegó! la llave es {estado_inicial}\")                                                                            \n",
    "    return(estado_inicial)\n",
    "\n",
    "# Implementación de la Euristica\n",
    "euristicas = timing.get_euristicas_tiempo(\"A\" ,3 , 1000000)\n",
    "caracteres = [chr(i) for i in range(ord(\"A\") , ord(\"Z\")+1)]\n",
    "lista = list(zip(euristicas, caracteres))\n",
    "pprint(lista)\n",
    "# Se puede notar que la letra que mas se demora es la \"B\""
   ]
  },
  {
   "cell_type": "markdown",
   "id": "certified-jerusalem",
   "metadata": {},
   "source": [
    "# Implementación de greedy search con restriccion de la longitud\n",
    "## El algoritmo de greedy search presenta el siguiente problema: \n",
    "- Si en algún momento toma una desición errada, no es posible saber si la tomó y el algoritmo será infinito\n",
    "## Algoritmo de greedy search delimitado\n",
    "- La idea es implementar el mismo algoritmo con la diferencia de que tiene en cuenta si se equivocó, mirando si la longitud es mayor a la inicial"
   ]
  },
  {
   "cell_type": "code",
   "execution_count": 6,
   "id": "environmental-toner",
   "metadata": {},
   "outputs": [],
   "source": [
    "def limited_greedy_search(problema, iteraciones):                                                                              \n",
    "    \"\"\"                                                                                                                        \n",
    "    Limited Greedy search aplicado a la euristica definida como que el que mas                                                 \n",
    "    se demora es mejor.                                                                                                        \n",
    "    \"\"\"                                                                                                                        \n",
    "    estado_inicial = problema.estado_inicial                                                                                   \n",
    "    tam_llave = problema.crackear_longitud()                                                                                   \n",
    "    solved = False                                                                                                             \n",
    "    while(not solved):                                                                                                         \n",
    "        mejor_accion = np.argmax(problema.get_euristicas_tiempo(estado_inicial , tam_llave, iteraciones))                      \n",
    "        estado_inicial = problema.transicion(estado_inicial , mejor_accion)                                                    \n",
    "        print(estado_inicial)                                                                                                  \n",
    "        solved = problema.test_objetivo(estado_inicial)                                                                        \n",
    "        if(len(estado_inicial) > tam_llave):                                                                                   \n",
    "            print(\"Pailas, se equivocó\")                                                                                       \n",
    "            return(False)                                                                                                      \n",
    "    print(f\"Le pegó! la llave es {estado_inicial}\")                                                                            \n",
    "    return(estado_inicial)   "
   ]
  },
  {
   "cell_type": "markdown",
   "id": "solved-scroll",
   "metadata": {},
   "source": [
    "# Implementación del algoritmo de backtracking"
   ]
  },
  {
   "cell_type": "code",
   "execution_count": 7,
   "id": "dress-wrapping",
   "metadata": {},
   "outputs": [],
   "source": [
    "def backtracking(problema, iteraciones):                                                                                       \n",
    "    \"\"\"                                                                                                                        \n",
    "    Implementación del algoritmo de backtracking aplicado al problema de un                                                    \n",
    "    ataque a la comparación trivial via Timming Attack.                                                                        \n",
    "    \"\"\"                                                                                                                        \n",
    "    estado_inicial = problema.estado_inicial\n",
    "    tam_llave = problema.crackear_longitud()\n",
    "    solved = False\n",
    "    acciones = problema.get_transiciones(estado_inicial)\n",
    "    while(not solved):\n",
    "        transicion_aleatoria = random.choice(acciones)\n",
    "        print(acciones)\n",
    "        print(f\"se elegio la opcion {transicion_aleatoria}\")\n",
    "        if(problema.validar_estado(transicion_aleatoria, iteraciones)):\n",
    "            estado_inicial = transicion_aleatoria\n",
    "            # Reseteo las acciones\n",
    "            acciones = problema.get_transiciones(estado_inicial)\n",
    "        else:\n",
    "            # Si la acción que tomé está errada simplemente la elimino y sigo\n",
    "            # buscando\n",
    "            acciones.remove(transicion_aleatoria)\n",
    "        solved = problema.test_objetivo(estado_inicial)\n",
    "        # Si no hay acciones pailas\n",
    "        if(len(acciones)==0):\n",
    "            print(\"no funcionó\")\n",
    "            return(False)\n",
    "    return(estado_inicial)"
   ]
  },
  {
   "cell_type": "markdown",
   "id": "detected-rhythm",
   "metadata": {},
   "source": [
    "# Implementación del algoritmo de bruteforcing como prueba:"
   ]
  },
  {
   "cell_type": "code",
   "execution_count": 14,
   "id": "covered-villa",
   "metadata": {},
   "outputs": [],
   "source": [
    "def bruteforcing_(problema):\n",
    "    \"\"\"Este problema es equivalente a mirar todos los nodos de la raiz\"\"\"\n",
    "    tam_llave = problema.crackear_longitud()\n",
    "    mystring = 'ABCDEFGHIJKLMNOPQRSTUVWXYZ'\n",
    "    combos = [''.join(i) for i in product(mystring, repeat = tam_llave)]\n",
    "    for i in combos:\n",
    "        if(problema.test_objetivo(i)):\n",
    "            print(f\"la llave es {i}\")\n",
    "            return(i)\n",
    "    return(False)"
   ]
  },
  {
   "cell_type": "markdown",
   "id": "quantitative-vintage",
   "metadata": {},
   "source": [
    "# Pruebas"
   ]
  },
  {
   "cell_type": "code",
   "execution_count": null,
   "id": "altered-engineer",
   "metadata": {},
   "outputs": [
    {
     "name": "stdout",
     "output_type": "stream",
     "text": [
      "crackeando longitud...\n"
     ]
    },
    {
     "name": "stderr",
     "output_type": "stream",
     "text": [
      "100%|██████████████████████████████████████████████████████████████████████████████████████████| 10/10 [00:00<00:00, 14.93it/s]\n"
     ]
    },
    {
     "data": {
      "image/png": "[encoded data removed]",
      "text/plain": [
       "<Figure size 432x288 with 1 Axes>"
      ]
     },
     "metadata": {
      "needs_background": "light"
     },
     "output_type": "display_data"
    },
    {
     "name": "stdout",
     "output_type": "stream",
     "text": [
      "la longitud de la llave es 3  \n",
      "calculando resultados...\n"
     ]
    },
    {
     "name": "stderr",
     "output_type": "stream",
     "text": [
      "100%|██████████████████████████████████████████████████████████████████████████████████████████| 26/26 [06:56<00:00, 16.03s/it]\n"
     ]
    },
    {
     "data": {
      "image/png": "[encoded data removed]",
      "text/plain": [
       "<Figure size 432x288 with 1 Axes>"
      ]
     },
     "metadata": {
      "needs_background": "light"
     },
     "output_type": "display_data"
    },
    {
     "name": "stdout",
     "output_type": "stream",
     "text": [
      "A\n",
      "calculando resultados...\n"
     ]
    },
    {
     "name": "stderr",
     "output_type": "stream",
     "text": [
      "100%|██████████████████████████████████████████████████████████████████████████████████████████| 26/26 [07:33<00:00, 17.44s/it]\n"
     ]
    },
    {
     "data": {
      "image/png": "[encoded data removed]",
      "text/plain": [
       "<Figure size 432x288 with 1 Axes>"
      ]
     },
     "metadata": {
      "needs_background": "light"
     },
     "output_type": "display_data"
    },
    {
     "name": "stdout",
     "output_type": "stream",
     "text": [
      "AB\n",
      "calculando resultados...\n"
     ]
    },
    {
     "name": "stderr",
     "output_type": "stream",
     "text": [
      " 38%|██████████████████████████████████▌                                                       | 10/26 [03:08<04:59, 18.73s/it]"
     ]
    }
   ],
   "source": [
    "# Greedy search limitado (si no se limita la ejecución es infinita)\n",
    "limited_greedy_search(timing, 20_000_000)"
   ]
  },
  {
   "cell_type": "code",
   "execution_count": null,
   "id": "saved-charlotte",
   "metadata": {},
   "outputs": [],
   "source": []
  }
 ],
 "metadata": {
  "kernelspec": {
   "display_name": "Python 3 (ipykernel)",
   "language": "python",
   "name": "python3"
  },
  "language_info": {
   "codemirror_mode": {
    "name": "ipython",
    "version": 3
   },
   "file_extension": ".py",
   "mimetype": "text/x-python",
   "name": "python",
   "nbconvert_exporter": "python",
   "pygments_lexer": "ipython3",
   "version": "3.9.2"
  }
 },
 "nbformat": 4,
 "nbformat_minor": 5
}

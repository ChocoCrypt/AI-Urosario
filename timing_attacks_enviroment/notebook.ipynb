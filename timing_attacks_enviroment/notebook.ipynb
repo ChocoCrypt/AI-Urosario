{
 "cells": [
  {
   "cell_type": "code",
   "execution_count": 1,
   "id": "monthly-solomon",
   "metadata": {},
   "outputs": [],
   "source": [
    "from timing_enviroment import *"
   ]
  },
  {
   "cell_type": "markdown",
   "id": "critical-lighter",
   "metadata": {},
   "source": [
    "# Presentación del ambiente\n"
   ]
  },
  {
   "cell_type": "code",
   "execution_count": 13,
   "id": "graduate-turkish",
   "metadata": {},
   "outputs": [
    {
     "data": {
      "text/plain": [
       "''"
      ]
     },
     "execution_count": 13,
     "metadata": {},
     "output_type": "execute_result"
    }
   ],
   "source": [
    "timing = SideChannel_Game(plot= True)\n",
    "s = timing.estado_inicial\n",
    "s"
   ]
  },
  {
   "cell_type": "code",
   "execution_count": null,
   "id": "looking-bobby",
   "metadata": {},
   "outputs": [],
   "source": []
  }
 ],
 "metadata": {
  "kernelspec": {
   "display_name": "Python 3 (ipykernel)",
   "language": "python",
   "name": "python3"
  },
  "language_info": {
   "codemirror_mode": {
    "name": "ipython",
    "version": 3
   },
   "file_extension": ".py",
   "mimetype": "text/x-python",
   "name": "python",
   "nbconvert_exporter": "python",
   "pygments_lexer": "ipython3",
   "version": "3.9.2"
  }
 },
 "nbformat": 4,
 "nbformat_minor": 5
}

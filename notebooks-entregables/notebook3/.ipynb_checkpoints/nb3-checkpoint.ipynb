{
 "cells": [
  {
   "cell_type": "markdown",
   "metadata": {
    "colab_type": "text",
    "id": "TpmFfXsQ0dYI"
   },
   "source": [
    "<table>\n",
    "    <tr>\n",
    "        <td><img src=\"./imagenes/Macc.png\" width=\"400\"/></td>\n",
    "        <td>&nbsp;</td>\n",
    "        <td>\n",
    "            <h1 style=\"color:blue;text-align:left\">Inteligencia Artificial</h1></td>\n",
    "        <td>\n",
    "            <table><tr>\n",
    "            <tp><p style=\"font-size:150%;text-align:center\">Notebook 3</p></tp>\n",
    "            <tp><p style=\"font-size:150%;text-align:center\">Búsqueda en espacio de estados (2/3) </p></tp>\n",
    "            </tr></table>\n",
    "        </td>\n",
    "    </tr>\n",
    "</table>\n",
    "\n",
    "---"
   ]
  },
  {
   "cell_type": "markdown",
   "metadata": {
    "colab_type": "text",
    "id": "V3SkDSWJ0dYJ"
   },
   "source": [
    "## Objetivo <a class=\"anchor\" id=\"inicio\"></a>\n",
    "\n",
    "En este notebook vamos a expandir el abanico de algoritmos de búsqueda a ciegas en un espacio de estados. Comenzaremos implementando los algoritmos `depth_limited_search` e `iterative_deepening_search` y los aplicaremos a la solución de problemas. \n",
    "\n",
    "Para seguir aumentando el abanico, necesitaremos considerar el costo del camino a seguir. Para ello, vamos a definir una lista prioritaria y mostraremos una posible implementación en Python. Analizaremos también la manera en la cual tanto el ambiente de tarea como el árbol de búsqueda involucran el costo de las acciones. \n",
    "\n",
    "Posteriormente, definiremos el algoritmo general de búsqueda basada en funciones de evaluación, llamado `best_first_search` para encontrar la solución más eficiente en el problema de las jarras de agua.\n",
    "\n",
    "Finalmente, usaremos los cuatro métodos para comparar su eficiencia en la búsqueda de una solución para el problema del laberinto.\n",
    "\n",
    "Adaptado de (Russell & Norvig, 2020), secciones 3.3 y 3.4.4."
   ]
  },
  {
   "cell_type": "markdown",
   "metadata": {
    "colab_type": "text",
    "id": "5HnQ_gA70dYL"
   },
   "source": [
    "## Secciones\n",
    "\n",
    "Desarrollaremos la explicación de la siguiente manera:\n",
    "\n",
    "* [Estrategia de búsqueda depth limited](#limited).\n",
    "* [Estrategia de búsqueda iterative deepening](#iterative).\n",
    "* [Comparación de tiempos](#compara).\n",
    "* [Listas prioritarias](#listas).\n",
    "* [Costos](#costos).\n",
    "* [Estrategia de búsqueda best first search](#best).\n",
    "* [Problema del laberinto](#laberinto).\n",
    "\n"
   ]
  },
  {
   "cell_type": "markdown",
   "metadata": {},
   "source": [
    "## Depth limited search <a class=\"anchor\" id=\"limited\"></a>\n",
    "    \n",
    "([Volver al inicio](#inicio))\n",
    "    \n",
    "En el notebook anterior hemos visto un algoritmo recursivo de `backtracking_search` que funcionaba bien en el caso de las 8 reinas, pero que superaba el umbral de memoria en el problema de las jarras de agua. Esta dificultad residía en el hecho de que el camino de búsqueda puede generar ciclos, lo cual conlleva a que el algoritmo se quede atascado en un bucle infinito. La solución que dimos en su momento fue el algoritmo `depth_first_search`, el cual lleva la cuenta de cuáles estados se exploran, de tal manera que no se vuelva a explorar uno ya explorado.\n",
    "\n",
    "Un compromiso entre la solución eficiente en memoria del `backtracking_search` y del efectivo `depth_first_search` es el `depth_limited_search`. En este algoritmo tendremos una profundidad límite para los nodos, que nunca podremos superar. Además, no guardaremos en memoria una lista de cuáles estados ya revisamos, sino que usaremos una función para verificar si el nodo que estamos explorando se generó mediante un camino cíclico. \n",
    "\n",
    "La complejidad en tiempo de este algoritmo es, en el peor de los casos, igual a los algoritmos `depth_first_search` y `breadth_first_search`. No obstante, el hecho de no guardar una lista de explorados hace que la complejidad en memoria sea lineal, es decir, mucho mejor que la de aquellos algoritmos. \n",
    "\n",
    "\n",
    "**Altura de un nodo en el árbol de búsqueda**\n",
    "\n",
    "Antes de mirar el pseudocódigo del algoritmo, consideremos con más detalle cómo encontrar la profundidad de un nodo y cómo verificar si proviene de un camino cíclico.\n",
    "\n",
    "La profundidad de un nodo, también conocida como su altura, es la cantidad de aristas desde la raíz hasta él. Por tanto, la raíz tiene profundidad 0, sus hijos tienen profundidad 1, los hijos de sus hijos tienen profundidad 2, etc.\n",
    "\n",
    "Recuerde que un nodo es un objeto con atributos `estado`, `madre`, `accion`, `costo_camino`, `codigo`.\n"
   ]
  },
  {
   "cell_type": "code",
   "execution_count": 1,
   "metadata": {},
   "outputs": [],
   "source": [
    "from ambientes import JarrasAgua\n",
    "from busqueda import *"
   ]
  },
  {
   "cell_type": "markdown",
   "metadata": {},
   "source": [
    "<a class=\"anchor\" id=\"ej1\"></a>**Ejercicio 1:** \n",
    "\n",
    "([Próximo ejercicio](#ej2))\n",
    "\n",
    "Implemente la función recursiva `depth` que recibe un nodo y retorna su altura. Pruebe su solución con el siguiente nodo `n3`, cuya profundidad debe ser, obviamente, 3:"
   ]
  },
  {
   "cell_type": "code",
   "execution_count": 2,
   "metadata": {},
   "outputs": [],
   "source": [
    "prob = JarrasAgua()\n",
    "s = prob.estado_inicial\n",
    "n = Nodo(s, None, None, 0, prob.codigo(s))\n",
    "n1 = nodo_hijo(prob, n, 1)\n",
    "n2 = nodo_hijo(prob, n1, 5)\n",
    "n3 = nodo_hijo(prob, n2, 6)"
   ]
  },
  {
   "cell_type": "code",
   "execution_count": 3,
   "metadata": {},
   "outputs": [
    {
     "name": "stdout",
     "output_type": "stream",
     "text": [
      "depth of node n3 is 3\n"
     ]
    }
   ],
   "source": [
    "def depth(nodo):\n",
    "    \"\"\"Implementación del método depth\"\"\"\n",
    "    # Input: un nodo de la clase Nodo\n",
    "    # Output: una variable de tipo entero.\n",
    "    if nodo.madre == None:\n",
    "        return 0\n",
    "    return 1 + depth(nodo.madre)\n",
    "\n",
    "# Test\n",
    "print(f\"depth of node n3 is {depth(n3)}\")"
   ]
  },
  {
   "cell_type": "markdown",
   "metadata": {},
   "source": [
    "---"
   ]
  },
  {
   "cell_type": "markdown",
   "metadata": {},
   "source": [
    "<a class=\"anchor\" id=\"ej2\"></a>**Ejercicio 2:** \n",
    "\n",
    "([Anterior ejercicio](#ej1)) ([Próximo ejercicio](#ej3))\n",
    "\n",
    "Implemente la función `is_cycle` que toma un nodo y devuelve un valor de verdad, dependiendo de si el camino de estados que va desde la raíz hasta él tiene ciclos. Pruebe su función con el nodo `n3` definido anteriormente, para el cual `is_cycle` debe ser verdadero. "
   ]
  },
  {
   "cell_type": "markdown",
   "metadata": {},
   "source": [
    "**Ayuda:** Pruebe definiendo primero una función recursiva que encuentra los códigos de todos los estados en el camino y luego verifica si hay repetidos."
   ]
  },
  {
   "cell_type": "code",
   "execution_count": 4,
   "metadata": {},
   "outputs": [
    {
     "data": {
      "text/plain": [
       "True"
      ]
     },
     "execution_count": 4,
     "metadata": {},
     "output_type": "execute_result"
    }
   ],
   "source": [
    "def codigos(nodo):\n",
    "    \"\"\"Función que retorna los codigos de todos los estados en el camino\"\"\"\n",
    "    if(nodo.madre == None):\n",
    "        return [nodo.codigo]\n",
    "    else:\n",
    "        return [] + [nodo.codigo] + codigos(nodo.madre)\n",
    "    \n",
    "def is_cycle(nodo):\n",
    "    \"\"\"Función que verifica si hay estados repetidos en el camino\"\"\"\n",
    "    return len(codigos(nodo)) != len(set(codigos(nodo)))\n",
    "\n",
    "# Test\n",
    "is_cycle(n3)"
   ]
  },
  {
   "cell_type": "markdown",
   "metadata": {},
   "source": [
    "---"
   ]
  },
  {
   "cell_type": "markdown",
   "metadata": {},
   "source": [
    "El siguiente es el pseudocódigo del algoritmo de búsqueda `depth_limited_search`:\n",
    "\n",
    "<div style=\"background-color:rgba(0, 0, 0, 0.0470588); padding:10px 0;font-family:monospace;\">\n",
    "<font style=\"font-weight: bold;\" color = \"red\">function</font> depth_limited_search(<font style=\"font-style: italic;\">problema</font>, <font style=\"font-style: italic;\">l</font>) <font style=\"font-weight: bold;\" color = \"red\">returns</font> solución o falla o cutoff <br>\n",
    "&nbsp;&nbsp; <font style=\"font-style: italic;\">nodo</font> &#8592; NODO(<font style=\"font-style: italic;\">problema</font>.estado_inicial) <br>\n",
    "&nbsp;&nbsp; <font style=\"font-style: italic;\">frontera</font> &#8592; lista LIFO con <font style=\"font-style: italic;\">nodo</font> como único elemento <br>\n",
    "&nbsp;&nbsp; <font style=\"font-style: italic;\">resultado</font> &#8592; falla <br>\n",
    "&nbsp;&nbsp; <font style=\"font-weight: bold;\" color = \"red\">While not</font> VACIA(<font style=\"font-style: italic;\">frontera</font>) <font style=\"font-weight: bold;\" color = \"red\">do</font> <br> \n",
    "&nbsp;&nbsp;&nbsp;&nbsp; <font style=\"font-style: italic;\">nodo</font> &#8592; POP(<font style=\"font-style: italic;\">frontera</font>) <br>\n",
    "&nbsp;&nbsp;&nbsp;&nbsp; <font style=\"font-weight: bold;\" color = \"red\">if</font> <font style=\"font-style: italic;\">problema</font>.test_objetivo(<font style=\"font-style: italic;\">nodo</font>.estado) <font style=\"font-weight: bold;\" color = \"red\">then return</font> <font style=\"font-style: italic;\">nodo</font> <br>\n",
    "&nbsp;&nbsp;&nbsp;&nbsp; <font style=\"font-weight: bold;\" color = \"red\">if</font> DEPTH(<font style=\"font-style: italic;\">nodo</font>) &#62;= <font style=\"font-style: italic;\">l</font> <font style=\"font-weight: bold;\" color = \"red\">then</font> <br>\n",
    "&nbsp;&nbsp;&nbsp;&nbsp;&nbsp;&nbsp; <font style=\"font-style: italic;\">resultado</font> &#8592; cutoff <br>\n",
    "&nbsp;&nbsp;&nbsp;&nbsp; <font style=\"font-weight: bold;\" color = \"red\">else if not</font> IS_CYCLE(<font style=\"font-style: italic;\">nodo</font>) <font style=\"font-weight: bold;\" color = \"red\">do</font> <br> \n",
    "&nbsp;&nbsp;&nbsp;&nbsp;&nbsp;&nbsp; <font style=\"font-weight: bold;\" color = \"red\">for each</font> <font style=\"font-style: italic;\">hijo</font> <font style=\"font-weight: bold;\" color = \"red\">in</font> EXPAND(<font style=\"font-style: italic;\">problema</font>, <font style=\"font-style: italic;\">nodo</font>) <font style=\"font-weight: bold;\" color = \"red\">do</font> <br>\n",
    "&nbsp;&nbsp;&nbsp;&nbsp;&nbsp;&nbsp;&nbsp;&nbsp; ADD(<font style=\"font-style: italic;\">hijo</font>, <font style=\"font-style: italic;\">frontera</font>)<br>\n",
    "&nbsp;&nbsp; <font style=\"font-weight: bold;\" color = \"red\">return</font> <font style=\"font-style: italic;\">resultado</font>  <br>\n",
    "</div>\n",
    "\n",
    "<div style=\"background-color:rgba(0, 0, 0, 0.0470588); padding:10px 0;font-family:monospace;\">\n",
    "<font style=\"font-weight: bold;\" color = \"red\">function</font> EXPAND(<font style=\"font-style: italic;\">problema</font>, <font style=\"font-style: italic;\">nodo</font>) <font style=\"font-weight: bold;\" color = \"red\">returns</font> <font style=\"font-style: italic;\">nodos</font> <br>\n",
    "&nbsp;&nbsp; <font style=\"font-style: italic;\">s</font> &#8592; <font style=\"font-style: italic;\">nodo</font>.estado <br>\n",
    "&nbsp;&nbsp;  <font style=\"font-style: italic;\">nodos</font> &#8592; lista LIFO vacía <br>\n",
    "&nbsp;&nbsp;  <font style=\"font-weight: bold;\" color = \"red\">for each</font> <font style=\"font-style: italic;\">accion</font> <font style=\"font-weight: bold;\" color = \"red\">in</font> <font style=\"font-style: italic;\">problema</font>.acciones_aplicables(<font style=\"font-style: italic;\">s</font>) <font style=\"font-weight: bold;\" color = \"red\">do</font> <br>\n",
    "&nbsp;&nbsp;&nbsp;&nbsp;  <font style=\"font-style: italic;\">hijo</font> &#8592; nodo_hijo(<font style=\"font-style: italic;\">problema</font>, <font style=\"font-style: italic;\">nodo</font>, <font style=\"font-style: italic;\">accion</font>) <br>\n",
    "&nbsp;&nbsp;&nbsp;&nbsp; ADD(<font style=\"font-style: italic;\">hijo</font>, <font style=\"font-style: italic;\">nodos</font>)<br>\n",
    "&nbsp;&nbsp; <font style=\"font-weight: bold;\" color = \"red\">return</font> nodos <br>\n",
    "</div>\n",
    "\n",
    "Hay dos anotaciones importantes que debemos mencionar aquí. Observe que para expandir un nodo se está usando una lista obtenida mediante la función `expand`, la cual proporciona todos los nodos hijo que se obtienen a partir de un nodo madre mediante cada una de las acciones aplicables. Además, la verificación de la prueba de satisfacción de objetivo se realiza al explorar la frontera, no al expandir un nodo. Sobre esto volveremos más adelante.\n"
   ]
  },
  {
   "cell_type": "markdown",
   "metadata": {},
   "source": [
    "<a class=\"anchor\" id=\"ej3\"></a>**Ejercicio 3:** \n",
    "\n",
    "([Anterior ejercicio](#ej2)) ([Próximo ejercicio](#ej4))\n",
    "\n",
    "Implemente el algoritmo de búsqueda `depth_limited_search` e intente resolver el problema de las jarras de agua a profundidad 4, 5, 6 y 10. En las dos primeras profundidades debe fallar y ser exitoso en las dos últimas. Observe, no obstante, que la solución a profundidad 6 debe ser distinta que la solución a profundidad 10. ¿Por qué?"
   ]
  },
  {
   "cell_type": "code",
   "execution_count": null,
   "metadata": {},
   "outputs": [],
   "source": [
    "def expand(problema, nodo):\n",
    "    \"\"\"Función expand copiada del pseudocódigo\"\"\"\n",
    "    estado = nodo.estado\n",
    "    nodos = []\n",
    "    for accion in problema.acciones_aplicables(estado):\n",
    "        hijo = nodo_hijo(problema, nodo, accion)\n",
    "        nodos.append(hijo)\n",
    "    return nodos\n",
    "\n",
    "\n",
    "def depth_limited_search(problema, l):\n",
    "    \"\"\"Algoritmo de busqueda dado en el pseudocodigo\"\"\"\n",
    "    nodo = Nodo(estado = problema.estado_inicial,\n",
    "                madre  = None,\n",
    "                accion = None, \n",
    "                costo_camino = 0,\n",
    "                codigo = 'inicial')    \n",
    "    frontera  = [nodo]\n",
    "    resultado = \"no\"    \n",
    "    while len(frontera) > 0:        \n",
    "        node = frontera.pop(0)        \n",
    "        if problema.test_objetivo(nodo.estado):\n",
    "            return nodo       \n",
    "        if(depth(nodo) >= l):\n",
    "            return \"paila\"\n",
    "        elif not is_cycle(node):            \n",
    "            for child in expand(problema, nodo):\n",
    "                frontera.append(child)                \n",
    "    return result\n",
    "\n",
    "# Test\n",
    "prob = JarrasAgua()\n",
    "ans = depth_limited_search(prob, 10)\n",
    "ans"
   ]
  },
  {
   "cell_type": "markdown",
   "metadata": {},
   "source": [
    "---"
   ]
  },
  {
   "cell_type": "markdown",
   "metadata": {},
   "source": [
    "## Iterative deepening search <a class=\"anchor\" id=\"iterative\"></a>\n",
    "\n",
    "([Volver al inicio](#inicio))\n",
    "\n",
    "Cuando no conocemos la profundidad a la que se encuentra la solución, dar un límite cualquiera puede no ser adecuado. Por ejemplo, podemos dar una profundidad muy pandita y corremos el riesgo de no encontrar la solución. O, como ocurrió en el caso anterior, una profundidad muy grande resulta en soluciones poco óptimas. Resulta más sistemático ejecutar esta búsqueda intentando todas las profundidades: primero profundidad 0, luego 1, luego 2, etc. De esta manera, podremos tener la seguridad de encontrar la solución óptima (a menor profundidad). \n",
    "\n",
    "El siguiente es un esquema de este algoritmo de búsqueda:\n",
    "\n",
    "<img src=\"./imagenes/iterative-deepening1.png\" width=\"auto\"/>\n",
    "\n",
    "Y el siguiente es el pseudocódigo respectivo:\n",
    "\n",
    "<div style=\"background-color:rgba(0, 0, 0, 0.0470588); padding:10px 0;font-family:monospace;\">\n",
    "<font style=\"font-weight: bold;\" color = \"red\">function</font> iterative_deepening_search(<font style=\"font-style: italic;\">problema</font>, <font style=\"font-style: italic;\">l_max</font>) <font style=\"font-weight: bold;\" color = \"red\">returns</font> solución o falla <br>\n",
    "&nbsp;&nbsp; <font style=\"font-weight: bold;\" color = \"red\">For</font> <font style=\"font-style: italic;\">depth</font> = 0 <font style=\"font-weight: bold;\" color = \"red\">to</font> <font style=\"font-style: italic;\">l_max</font> <font style=\"font-weight: bold;\" color = \"red\">do</font> <br> \n",
    "&nbsp;&nbsp;&nbsp;&nbsp; <font style=\"font-style: italic;\">resultado</font> &#8592; depth_limited_search(<font style=\"font-style: italic;\">problema</font>, <font style=\"font-style: italic;\">depth</font>) <br>\n",
    "&nbsp;&nbsp;&nbsp;&nbsp; <font style=\"font-weight: bold;\" color = \"red\">if</font> <font style=\"font-style: italic;\">resultado</font> &#8800; cutoff <font style=\"font-weight: bold;\" color = \"red\">then return</font> <font style=\"font-style: italic;\">resultado</font> <br>\n",
    "</div>\n"
   ]
  },
  {
   "cell_type": "markdown",
   "metadata": {},
   "source": [
    "<a class=\"anchor\" id=\"ej4\"></a>**Ejercicio 4:** \n",
    "\n",
    "([Anterior ejercicio](#ej3)) ([Próximo ejercicio](#ej5))\n",
    "\n",
    "Implemente la función `iterative_deepening_search`y resuelva el problema de las jarras de agua con profundidad máxima 10. Observe que en este caso debe obtener la solución óptima a profundidad 6."
   ]
  },
  {
   "cell_type": "code",
   "execution_count": null,
   "metadata": {},
   "outputs": [],
   "source": [
    "def iterative_deeping_search(prob , maximo):\n",
    "    for i in range(maximo):\n",
    "        resp = depth_limited_search(prob, depth)\n",
    "    retirm"
   ]
  },
  {
   "cell_type": "markdown",
   "metadata": {},
   "source": [
    "---"
   ]
  },
  {
   "cell_type": "markdown",
   "metadata": {},
   "source": [
    "## Comparación empírica de tiempos <a class=\"anchor\" id=\"compara\"></a>\n",
    "\n",
    "([Volver al inicio](#inicio))\n",
    "\n",
    "La eficiencia de los algoritmos es un tema central en las ciencias de la computación. Esta eficiencia se estudia usalmente de manera teórica, respecto al tiempo y memoria que consume un algoritmo al correr en un modelo de computación respecto a varios tipos de entradas. En este curso seguiremos un enfoque empírico para evaluar la eficiencia de los algoritmos. Este enfoque no reemplaza el teórico y es sólo una aproximación al mismo. \n",
    "\n",
    "Lo que deseamos hacer es evaluar los tiempos que le lleva al computador ejecutar alguno de nuestros algoritmos sobre una colección de entradas. En este caso particular, como tenemos varias funciones que realizan el mismo procedimiento, resulta interesante evaluar de manera empírica cuál es más rápida. \n",
    "\n",
    "Observe que medir los tiempos del computador no es el enfoque más apropiado para considerar la eficiencia, pero de todas maneras resulta útil. Para realizar esto debemos tener presente que el computador es una pieza de hardware cuyos tiempos de funcionamiento dependen de muchas cosas (nivel de energía, estado del hardware, etc.). Además, un computador realiza muchas tareas al mismo tiempo. En consecuencia, medir los tiempos del computador para evaluar una función requiere tratar de cancelar todo este ruido alrededor. Una manera de hacerlo es obtener varias mediciones del mismo proceso, y luego comparar promedios de tiempos. Esto es lo que realizaremos a continuación. \n",
    "\n",
    "Creamos primero una función que obtiene una lista con varias mediciones del tiempo de ejecución de una función. Analice la siguiente celda hasta que se sienta satisfecho con su comprensión del código:"
   ]
  },
  {
   "cell_type": "code",
   "execution_count": null,
   "metadata": {},
   "outputs": [],
   "source": [
    "from time import time\n",
    "\n",
    "def obtiene_tiempos(fun, args, num_it=100):\n",
    "    tiempos_fun = []\n",
    "    for i in range(num_it):\n",
    "        arranca = time()\n",
    "        x = fun(*args)\n",
    "        para = time()\n",
    "        tiempos_fun.append(para - arranca)\n",
    "    return tiempos_fun"
   ]
  },
  {
   "cell_type": "markdown",
   "metadata": {},
   "source": [
    "Ahora creamos una función que obtiene estos tiempos y guardarlos en un dataframe de pandas:"
   ]
  },
  {
   "cell_type": "code",
   "execution_count": null,
   "metadata": {},
   "outputs": [],
   "source": [
    "import pandas as pd\n",
    "import matplotlib.pyplot as plt\n",
    "import seaborn as sns\n",
    "import statsmodels.api as sm\n",
    "from statsmodels.formula.api import ols\n",
    "\n",
    "def compara_funciones(funs, arg, nombres, N=30):\n",
    "    nms = []\n",
    "    ts = []\n",
    "    for i, fun in enumerate(funs):\n",
    "        nms += [nombres[i] for x in range(N)]\n",
    "        ts += obtiene_tiempos(fun, [arg], N)\n",
    "    data = pd.DataFrame({'Función':nms, 'Tiempo':ts})\n",
    "    return data\n",
    "    "
   ]
  },
  {
   "cell_type": "markdown",
   "metadata": {},
   "source": [
    "Con esta información, ahora podemos graficar las distribuciones de tiempos y realizar la prueba ANOVA para diferencia de medias:"
   ]
  },
  {
   "cell_type": "code",
   "execution_count": null,
   "metadata": {},
   "outputs": [],
   "source": [
    "from busqueda import *\n",
    "import warnings\n",
    "warnings.filterwarnings('ignore')\n",
    "\n",
    "funs = [breadth_first_search,\n",
    "        depth_first_search,\n",
    "        lambda x: depth_limited_search(x, 10),\n",
    "        lambda x: iterative_deepening_search(x, 10)\n",
    "]\n",
    "nombres = ['Breadth_first', 'Depth_first', \n",
    "           'Depth_limited', 'Iterative_deepening']\n",
    "prob = JarrasAgua()\n",
    "data = compara_funciones(funs=funs, arg=prob, nombres=nombres)\n",
    "# Graficando\n",
    "fig, ax = plt.subplots(1,1, figsize=(3*len(funs),3), tight_layout=True)\n",
    "sns.boxplot(data=data, x='Función', y='Tiempo')\n",
    "sns.swarmplot(data=data, x='Función', y='Tiempo', color='black', alpha = 0.5, ax=ax);\n",
    "# Anova diferencia de medias\n",
    "model = ols('Tiempo ~ C(Función)', data=data).fit()\n",
    "anova_table = sm.stats.anova_lm(model, typ=2)\n",
    "print(anova_table)"
   ]
  },
  {
   "cell_type": "markdown",
   "metadata": {},
   "source": [
    "Observe que la prueba de anova para la diferencia de medias nos muestra que, para el problema de las jarras de agua, hay evidencia para afirmar que los tiempos promedio de los cuatro algoritmos son diferentes (F(3,116)=772, p<.001)."
   ]
  },
  {
   "cell_type": "code",
   "execution_count": null,
   "metadata": {},
   "outputs": [],
   "source": [
    "data.groupby('Función').agg({'Tiempo':['mean', 'std']})"
   ]
  },
  {
   "cell_type": "markdown",
   "metadata": {},
   "source": [
    "Adicionalmente, los resultados indican que la función de búsqueda de iterative deepening es mucho más demorada que las otras tres funciones, y que la función ganadora es depth first search, siendo la más rápida en resolver el problema de las jarras de agua, con un tiempo promedio de $0.083$ milisegundos."
   ]
  },
  {
   "cell_type": "markdown",
   "metadata": {},
   "source": [
    "---"
   ]
  },
  {
   "cell_type": "markdown",
   "metadata": {},
   "source": [
    "## Listas prioritarias <a class=\"anchor\" id=\"listas\"></a>\n",
    "\n",
    "([Volver al inicio](#inicio))\n",
    "\n",
    "En una lista prioritaria, los elementos tienen una prioridad de acuerdo al valor que reciben por una función de evaluación $f$. De esta manera, la acción POP remueve y retorna el elemento prioritario, que es aquel con valor mínimo de $f$. Cuando dos elementos tienen la misma prioridad, el último elemento en ser incluido es el primero en salir.\n",
    "\n",
    "Existen librerías que proporcionan objetos que implementan listas prioritarias, como <a href=\"https://pypi.org/project/HeapDict/\">heapdict</a>. Aquí utilizaremos el siguiente objeto `ListaPrioritaria` para implementar las listas prioritarias:"
   ]
  },
  {
   "cell_type": "code",
   "execution_count": null,
   "metadata": {},
   "outputs": [],
   "source": [
    "import numpy as np\n",
    "\n",
    "class ListaPrioritaria():\n",
    "    \n",
    "    def __init__(self):\n",
    "        self.diccionario = {}\n",
    "        \n",
    "    def __str__(self):\n",
    "        cadena = '['\n",
    "        inicial = True\n",
    "        for costo in self.diccionario:\n",
    "            elementos = self.diccionario[costo]\n",
    "            for elemento in elementos:\n",
    "                if inicial:\n",
    "                    cadena += '(' + str(elemento) + ',' + str(costo) + ')'\n",
    "                    inicial = False\n",
    "                else:\n",
    "                    cadena += ', (' + str(elemento) + ',' + str(costo) + ')'\n",
    "\n",
    "        return cadena + ']'\n",
    "    \n",
    "    def push(self, elemento, costo):\n",
    "        try:\n",
    "            self.diccionario[costo].append(elemento)\n",
    "        except:\n",
    "            self.diccionario[costo] = [elemento]\n",
    "            \n",
    "    def pop(self):\n",
    "        min_costo = min(list(self.diccionario.keys()))\n",
    "        candidatos = self.diccionario[min_costo]\n",
    "        elemento = candidatos.pop()\n",
    "        if len(candidatos) == 0:\n",
    "            del self.diccionario[min_costo]\n",
    "        return elemento\n",
    "    \n",
    "    def is_empty(self):\n",
    "        return len(self.diccionario) == 0\n",
    "        "
   ]
  },
  {
   "cell_type": "markdown",
   "metadata": {},
   "source": [
    "La idea detrás de este objeto es mantener un diccionario con los costos como keys, y los valores como listas de elementos que tienen el costo del respectivo key. De esta manera, al llamar el método `pop`, se busca la key mínima y se hace pop a la lista que es su respectivo valor de acuerdo al diccionario.\n",
    "\n",
    "Vamos a incluir algunos elementos en nuestra lista. Observe que incluimos las prioridades manualmente, sin recurrir a una función $f$:"
   ]
  },
  {
   "cell_type": "code",
   "execution_count": null,
   "metadata": {},
   "outputs": [],
   "source": [
    "lista = ListaPrioritaria()\n",
    "lista.push('g', 2)\n",
    "lista.push('e', 3)\n",
    "lista.push('k', 1)\n",
    "lista.push('s', 2)\n",
    "print(\"La lista prioritaria:\", lista)"
   ]
  },
  {
   "cell_type": "markdown",
   "metadata": {},
   "source": [
    "Observe que los elementos no se visualizan en orden. Tampoco se visualiza la forma real del diccionario, la cual se puede observar así:\n"
   ]
  },
  {
   "cell_type": "code",
   "execution_count": 55,
   "metadata": {},
   "outputs": [
    {
     "name": "stdout",
     "output_type": "stream",
     "text": [
      "El diccionario subyacente: {2: ['g', 's'], 3: ['e'], 1: ['k']}\n"
     ]
    }
   ],
   "source": [
    "print(\"El diccionario subyacente:\", lista.diccionario)"
   ]
  },
  {
   "cell_type": "markdown",
   "metadata": {},
   "source": [
    "A pesar de que los valores no están en orden, el método `pop` devuelve el elemento prioritario:"
   ]
  },
  {
   "cell_type": "code",
   "execution_count": 56,
   "metadata": {},
   "outputs": [
    {
     "data": {
      "text/plain": [
       "'k'"
      ]
     },
     "execution_count": 56,
     "metadata": {},
     "output_type": "execute_result"
    }
   ],
   "source": [
    "n = lista.pop()\n",
    "n"
   ]
  },
  {
   "cell_type": "markdown",
   "metadata": {},
   "source": [
    "Observe que tanto 'g' como 's' tienen la misma prioridad. No obstante, 's' fue el último en ser incluido en `lista` y, por lo tanto, es el primero en salir:\n"
   ]
  },
  {
   "cell_type": "code",
   "execution_count": 57,
   "metadata": {},
   "outputs": [
    {
     "name": "stdout",
     "output_type": "stream",
     "text": [
      "La lista prioritaria: [(g,2), (s,2), (e,3)]\n",
      "Al hacer pop con dos elementos con el mismo valor se obtiene: s\n"
     ]
    }
   ],
   "source": [
    "print(\"La lista prioritaria:\", lista)\n",
    "print(\"Al hacer pop con dos elementos con el mismo valor se obtiene:\", lista.pop())"
   ]
  },
  {
   "cell_type": "markdown",
   "metadata": {},
   "source": [
    "Para determinar si la lista prioritaria está vacía, usamos el método `is_empty`."
   ]
  },
  {
   "cell_type": "code",
   "execution_count": 58,
   "metadata": {},
   "outputs": [
    {
     "name": "stdout",
     "output_type": "stream",
     "text": [
      "La lista prioritaria: [(g,2), (e,3)]\n",
      "Lista vacía? False\n"
     ]
    }
   ],
   "source": [
    "print(\"La lista prioritaria:\", lista)\n",
    "print(\"Lista vacía?\", lista.is_empty())"
   ]
  },
  {
   "cell_type": "markdown",
   "metadata": {},
   "source": [
    "Antes de que podamos utilizar listas prioritarias en nuestras búsquedas dentro de espacios de estados, debemos entender un poco más la manera mediante la cual se ha implementado un costo a una acción en un estado dado dentro de nuestros ambientes de tarea. Esto es lo que vamos a ver a continuación."
   ]
  },
  {
   "cell_type": "markdown",
   "metadata": {},
   "source": [
    "## Costos <a class=\"anchor\" id=\"costos\"></a>\n",
    "\n",
    "([Volver al inicio](#inicio))\n",
    "\n",
    "**El método costo**\n",
    "\n",
    "En este apartado veremos la manera mediante la cual los ambientes de tarea involucran una función de costo, que le asigna un costo a una acción en un estado dado. Comencemos por ver esto en nuestro problema de las jarras de agua."
   ]
  },
  {
   "cell_type": "code",
   "execution_count": 48,
   "metadata": {},
   "outputs": [
    {
     "name": "stdout",
     "output_type": "stream",
     "text": [
      "Acciones aplicables: [1, 2]\n"
     ]
    },
    {
     "data": {
      "image/png": "[encoded data removed]",
      "text/plain": [
       "<Figure size 432x288 with 1 Axes>"
      ]
     },
     "metadata": {
      "needs_background": "light"
     },
     "output_type": "display_data"
    }
   ],
   "source": [
    "prob = JarrasAgua()\n",
    "s = prob.estado_inicial\n",
    "prob.pintar_estado(s)\n",
    "print(\"Acciones aplicables:\", prob.acciones_aplicables(s))"
   ]
  },
  {
   "cell_type": "code",
   "execution_count": 47,
   "metadata": {},
   "outputs": [
    {
     "name": "stdout",
     "output_type": "stream",
     "text": [
      "Costo de aplicar la accion 1 a s es 4\n",
      "Costo de aplicar la accion 2 a s es 3\n"
     ]
    }
   ],
   "source": [
    "print(\"Costo de aplicar la accion 1 a s es\", prob.costo(s, 1))\n",
    "print(\"Costo de aplicar la accion 2 a s es\", prob.costo(s, 2))"
   ]
  },
  {
   "cell_type": "markdown",
   "metadata": {},
   "source": [
    "Como podemos ver, el ambiente de tarea tiene un método `costo()`, que permite asignar un costo a una acción en un estado dado. Al revisar el código en la librería ambientes, podemos observar que este método está definido de la siguiente manera:"
   ]
  },
  {
   "cell_type": "code",
   "execution_count": 46,
   "metadata": {},
   "outputs": [],
   "source": [
    "def costo(self, estado, accion):\n",
    "    return 1\n",
    "\n",
    "# setattr(JarrasAgua,\"costo\", costo)"
   ]
  },
  {
   "cell_type": "markdown",
   "metadata": {},
   "source": [
    "Esto es, se le asigna el mismo costo unitario a cualquier acción aplicable en cualquier estado."
   ]
  },
  {
   "cell_type": "markdown",
   "metadata": {},
   "source": [
    "**El atributo costo_camino**\n",
    "\n",
    "Además de este método asociado a un ambiente de tarea, tenemos también el atributo `costo_camino` de los objetos `Nodo`. Repetimos aquí la definición de los nodos para poder observar un aspecto importante."
   ]
  },
  {
   "cell_type": "code",
   "execution_count": 45,
   "metadata": {},
   "outputs": [],
   "source": [
    "class Nodo:\n",
    "    \n",
    "    # Clase para crear los nodos\n",
    "    \n",
    "    def __init__(self, estado, madre, accion, costo_camino, codigo):\n",
    "        self.estado = estado\n",
    "        self.madre = madre\n",
    "        self.accion = accion\n",
    "        self.costo_camino = costo_camino\n",
    "        self.codigo = codigo\n",
    "        \n",
    "def nodo_hijo(problema, madre, accion):\n",
    "    \n",
    "    # Función para crear un nuevo nodo\n",
    "    # Input: problema, que es un objeto de clase ocho_reinas\n",
    "    #        madre, que es un nodo,\n",
    "    #        accion, que es una acción que da lugar al estado del nuevo nodo\n",
    "    # Output: nodo\n",
    "    \n",
    "    estado = problema.transicion(madre.estado, accion)\n",
    "    costo_camino = madre.costo_camino + problema.costo(madre.estado, accion)\n",
    "    codigo = problema.codigo(estado)\n",
    "    return Nodo(estado, madre, accion, costo_camino, codigo)\n",
    "\n",
    "def solucion(n):\n",
    "    if n.madre == None:\n",
    "        return []\n",
    "    else:\n",
    "        return solucion(n.madre) + [n.accion]"
   ]
  },
  {
   "cell_type": "markdown",
   "metadata": {},
   "source": [
    "Observe que la función `nodo_hijo` crea un nodo hijo al expandir el nodo madre mediante una acción `s`. Al momento de crear el hijo se calcula su `costo_camino`, que consiste en el `costo_camino` del nodo madre más el costo que el ambiente de tarea le atribuye a la acción `s` en el estado del nodo madre.\n",
    "\n",
    "Veamos esto con un ejemplo:"
   ]
  },
  {
   "cell_type": "code",
   "execution_count": 44,
   "metadata": {},
   "outputs": [
    {
     "name": "stdout",
     "output_type": "stream",
     "text": [
      "Costo camino de n = 0\n",
      "Costo camino de n1 = 4\n",
      "Costo camino de n2 = 4\n",
      "Costo camino de n3 = 5\n"
     ]
    }
   ],
   "source": [
    "n = Nodo(s, None, None, 0, prob.codigo(s))\n",
    "n1 = nodo_hijo(prob, n, 1)\n",
    "n2 = nodo_hijo(prob, n1, 5)\n",
    "n3 = nodo_hijo(prob, n2, 3)\n",
    "print(\"Costo camino de n =\", n.costo_camino)\n",
    "print(\"Costo camino de n1 =\", n1.costo_camino)\n",
    "print(\"Costo camino de n2 =\", n2.costo_camino)\n",
    "print(\"Costo camino de n3 =\", n3.costo_camino)"
   ]
  },
  {
   "cell_type": "markdown",
   "metadata": {},
   "source": [
    "En este caso el costo camino coincide con el número de acciones que se necesitan para generar el nodo desde la raíz, toda vez que cada acción tiene costo de 1."
   ]
  },
  {
   "cell_type": "markdown",
   "metadata": {},
   "source": [
    "**Modificar el método costos**\n",
    "\n",
    "Para un problema dado, debe ser claro que podemos definir distintos métodos de costo. En nuestro problema, en lugar del costo unitario que hemos visto anteriormente, podríamos definir un costo basado en el uso eficiente del agua. Por ejemplo, podemos definir la siguiente función, la cual calcula cuánta agua se utilizó para llenar las jarras y se le suma el agua que se desperdició (otros cálculos distintos, basados en otros criterios, son posibles): "
   ]
  },
  {
   "cell_type": "code",
   "execution_count": 43,
   "metadata": {},
   "outputs": [],
   "source": [
    "def desperdicio(self, estado, accion):\n",
    "    x, y = estado\n",
    "    if accion == 1:\n",
    "        costo = 4 - x # usa 4-x litros de agua\n",
    "    if accion == 2:\n",
    "        costo = 3 - y # usa 3-y litros de agua\n",
    "    if accion == 3:\n",
    "        costo = x # desperdicia x litros de agua\n",
    "    if accion == 4:\n",
    "        costo = y # desperdicia y litros de agua\n",
    "    if accion == 5:\n",
    "        costo = 0\n",
    "    if accion == 6:\n",
    "        costo = 0\n",
    "    return costo\n"
   ]
  },
  {
   "cell_type": "markdown",
   "metadata": {},
   "source": [
    "Ahora podemos añadirla para reemplazar el método `costo` del problema de las jarras de agua:"
   ]
  },
  {
   "cell_type": "code",
   "execution_count": 42,
   "metadata": {},
   "outputs": [],
   "source": [
    "setattr(JarrasAgua,\"costo\", desperdicio)"
   ]
  },
  {
   "cell_type": "markdown",
   "metadata": {},
   "source": [
    "Observe cómo se modifican los `costo_camino` de los mismos nodos que hemos revisado hace un momento:"
   ]
  },
  {
   "cell_type": "code",
   "execution_count": 41,
   "metadata": {},
   "outputs": [
    {
     "name": "stdout",
     "output_type": "stream",
     "text": [
      "Costo camino de n = 0\n",
      "Costo camino de n1 = 1\n",
      "Costo camino de n2 = 2\n",
      "Costo camino de n3 = 3\n"
     ]
    }
   ],
   "source": [
    "prob = JarrasAgua()\n",
    "s = prob.estado_inicial\n",
    "n = Nodo(s, None, None, 0, prob.codigo(s))\n",
    "n1 = nodo_hijo(prob, n, 1)\n",
    "n2 = nodo_hijo(prob, n1, 5)\n",
    "n3 = nodo_hijo(prob, n2, 3)\n",
    "print(\"Costo camino de n =\", n.costo_camino)\n",
    "print(\"Costo camino de n1 =\", n1.costo_camino)\n",
    "print(\"Costo camino de n2 =\", n2.costo_camino)\n",
    "print(\"Costo camino de n3 =\", n3.costo_camino)"
   ]
  },
  {
   "cell_type": "markdown",
   "metadata": {},
   "source": [
    "<a class=\"anchor\" id=\"ej5\"></a>**Ejercicio 5:** \n",
    "\n",
    "([Anterior ejercicio](#ej4)) ([Próximo ejercicio](#ej6))\n",
    "\n",
    "Cree una lista prioritaria `frontera` con los cuatro nodos anteriores y su respectivo `costo_camino` (obtenido mediante el atributo respectivo, no incluido a mano). Devuelva el código del estado con mínimo costo."
   ]
  },
  {
   "cell_type": "markdown",
   "metadata": {},
   "source": [
    "---"
   ]
  },
  {
   "cell_type": "markdown",
   "metadata": {
    "colab_type": "text",
    "id": "UgFieF2s0dY2"
   },
   "source": [
    "## Best first search <a class=\"anchor\" id=\"best\"></a>\n",
    "\n",
    "([Volver al inicio](#inicio))\n",
    "\n",
    "Ya estamos listos para presentar el algoritmo general de búsqueda `best_first_search`, también conocido como el algoritmo de Dijkstra (se pronuncia \"daecstra\"). Todos los algoritmos de búsqueda subsiguientes serán un caso particular de este. Solamente modificaremos la función de evaluación $f$. En algunos casos será una función de costos, en otros casos será una función heurística y, en otros, será una combinación de las dos. Pero no nos adelantemos al tema.\n",
    "\n",
    "El algoritmo de búsqueda basado en una función de evaluación es similar a nuestro algoritmo (no recursivo) `depth_first_search`. En este último vamos generando una frontera, que es una lista LIFO, para ir expandiendo primero el nodo de mayor profundidad. En el algoritmo `best_first_search` expandimos primero el nodo prioritario de la frontera, que es una lista prioritaria.\n",
    "\n",
    "El siguiente es el pseudocódigo del algoritmo:\n",
    "\n",
    "<div style=\"background-color:rgba(0, 0, 0, 0.0470588); padding:10px 0;font-family:monospace;\">\n",
    "<font style=\"font-weight: bold;\" color = \"red\">function</font> best_first_search(<font style=\"font-style: italic;\">problema</font>, <font style=\"font-style: italic;\">f</font>) <font style=\"font-weight: bold;\" color = \"red\">returns</font> <font style=\"font-style: italic;\">nodo</font> o falla <br>\n",
    "&nbsp;&nbsp; <font style=\"font-style: italic;\">problema</font>.costo &#8592; <font style=\"font-style: italic;\">f</font> <br>\n",
    "&nbsp;&nbsp; <font style=\"font-style: italic;\">s</font> &#8592; <font style=\"font-style: italic;\">problema</font>.estado_inicial <br>\n",
    "&nbsp;&nbsp; <font style=\"font-style: italic;\">cod</font> &#8592; <font style=\"font-style: italic;\">problema</font>.codigo(<font style=\"font-style: italic;\">s</font>) <br>\n",
    "&nbsp;&nbsp; <font style=\"font-style: italic;\">nodo</font> &#8592; NODO(<font style=\"font-style: italic;\">s</font>) <br>\n",
    "&nbsp;&nbsp; <font style=\"font-style: italic;\">frontera</font> &#8592; lista prioritaria con 1 item con key <font style=\"font-style: italic;\">nodo</font> y valor 0<br>\n",
    "&nbsp;&nbsp; <font style=\"font-style: italic;\">explorados</font> &#8592; diccionario con 1 item con key <font style=\"font-style: italic;\">cod</font> y valor 0 <br>\n",
    "&nbsp;&nbsp; <font style=\"font-weight: bold;\" color = \"red\">While not</font> VACIA(<font style=\"font-style: italic;\">frontera</font>) <font style=\"font-weight: bold;\" color = \"red\">do</font> <br> \n",
    "&nbsp;&nbsp;&nbsp;&nbsp; <font style=\"font-style: italic;\">nodo</font> &#8592; POP(<font style=\"font-style: italic;\">frontera</font>) <br>\n",
    "&nbsp;&nbsp;&nbsp;&nbsp; <font style=\"font-weight: bold;\" color = \"red\">if</font> <font style=\"font-style: italic;\">problema</font>.test_objetivo(<font style=\"font-style: italic;\">nodo</font>.estado) <font style=\"font-weight: bold;\" color = \"red\">then return</font> <font style=\"font-style: italic;\">nodo</font> <br>\n",
    "&nbsp;&nbsp;&nbsp;&nbsp; <font style=\"font-weight: bold;\" color = \"red\">for each</font> <font style=\"font-style: italic;\">hijo</font> <font style=\"font-weight: bold;\" color = \"red\">in</font> EXPAND(<font style=\"font-style: italic;\">problema</font>, <font style=\"font-style: italic;\">nodo</font>) <font style=\"font-weight: bold;\" color = \"red\">do</font> <br>\n",
    "&nbsp;&nbsp;&nbsp;&nbsp;&nbsp;&nbsp; <font style=\"font-style: italic;\">s</font> &#8592; <font style=\"font-style: italic;\">hijo</font>.estado<br>\n",
    "&nbsp;&nbsp;&nbsp;&nbsp;&nbsp;&nbsp; <font style=\"font-style: italic;\">cod</font> &#8592; <font style=\"font-style: italic;\">problema</font>.codigo(<font style=\"font-style: italic;\">s</font>) <br>\n",
    "&nbsp;&nbsp;&nbsp;&nbsp;&nbsp;&nbsp; <font style=\"font-style: italic;\">c</font> &#8592; <font style=\"font-style: italic;\">hijo</font>.costo_camino <br>\n",
    "&nbsp;&nbsp;&nbsp;&nbsp;&nbsp;&nbsp; <font style=\"font-weight: bold;\" color = \"red\">if</font> <font style=\"font-style: italic;\">cod</font> <font style=\"font-weight: bold;\" color = \"red\">not in</font> <font style=\"font-style: italic;\">explorados</font>.keys <font style=\"font-weight: bold;\" color = \"red\">or</font> <font style=\"font-style: italic;\">c</font> &#60; <font style=\"font-style: italic;\">explorados</font>[<font style=\"font-style: italic;\">cod</font>] <font style=\"font-weight: bold;\" color = \"red\">then</font> <br>\n",
    "&nbsp;&nbsp;&nbsp;&nbsp;&nbsp;&nbsp;&nbsp;&nbsp; <font style=\"font-style: italic;\">frontera</font>[<font style=\"font-style: italic;\">hijo</font>] &#8592; <font style=\"font-style: italic;\">c</font> <br>\n",
    "&nbsp;&nbsp;&nbsp;&nbsp;&nbsp;&nbsp;&nbsp;&nbsp; <font style=\"font-style: italic;\">explorados</font>[<font style=\"font-style: italic;\">cod</font>] &#8592; <font style=\"font-style: italic;\">c</font> <br>\n",
    "    &nbsp;&nbsp; <font style=\"font-weight: bold;\" color = \"red\">return</font> falla <br>\n",
    "</div>\n",
    "\n",
    "El algoritmo comienza reemplazando el método `costo()` del objeto problema por la función $f$. Posteriormente, el algoritmo toma el estado inicial, le calcula su código y, luego, crea el nodo raiz. A continuación, inicia la lista `frontera` como una lista prioritaria. También inicializa el diccionario `explorados` mediante el cual se van a relacionar los estados con el `costo_camino` asociado al camino en el árbol de búsqueda. Este diccionario permitirá tanto llevar la cuenta de cuáles estados hemos visitado, como de asociar el costo en que se incurre para llegar hasta un estado particular partiendo desde el estado inicial. Observe que el algoritmo permite incluir estados repetidos siempre y cuando se llegue a estos mediante caminos menos costos de los obtenidos anteriormente.\n"
   ]
  },
  {
   "cell_type": "markdown",
   "metadata": {},
   "source": [
    "<a class=\"anchor\" id=\"ej6\"></a>**Ejercicio 6:** \n",
    "\n",
    "([Anterior ejercicio](#ej5)) ([Próximo ejercicio](#ej7))\n",
    "\n",
    "Implemente el anterior pseudocódigo para codificar la función `best_first_search`, con argumentos `problema` y una función de costo dada $f$.\n",
    "\n",
    "**Nota:** Use la función `MethodType` de la librería `types` para asignar una función `f` como método a un objeto `problema` ya creado, mediante la instrucción:\n",
    "\n",
    "`problema.costo = MethodType(f, problema)`"
   ]
  },
  {
   "cell_type": "code",
   "execution_count": 74,
   "metadata": {},
   "outputs": [],
   "source": [
    "from types import MethodType\n",
    "\n",
    "def best_first_search(problema, fun):\n",
    "    \"\"\"Best First search visto en clase\"\"\"\n",
    "    problema.costo = MethodType(fun, problema)\n",
    "    codigo  = problema.codigo(s)\n",
    "    estado = problema.estado_inicial\n",
    "    nodo  = Nodo(estado = estado,\n",
    "                 madre  = None,\n",
    "                 accion = None, \n",
    "                 costo_camino = 0,\n",
    "                 codigo = 'estado_inicial')\n",
    "    frontera = ListaPrioritaria()\n",
    "    frontera.push(elemento = nodo,\n",
    "                  costo    = 0)\n",
    "    conocidos = {codigo: 0}    \n",
    "    while not frontera.is_empty():      \n",
    "        nodo = frontera.pop()        \n",
    "        if problema.test_objetivo(nodo.estado):\n",
    "            return nodo\n",
    "        for hijo in expand(problema, nodo):\n",
    "            estado = hijo.estado\n",
    "            codigo  = problema.codigo(estado)\n",
    "            costo  = hijo.costoo_camino            \n",
    "            if (codigo not in conocidos.keys()) or (costo < conocidos[codigo]):\n",
    "                frontera.push(hijo, costo)\n",
    "                conocidos[codigo]  = costo\n",
    "    return \"paila\"\n"
   ]
  },
  {
   "cell_type": "markdown",
   "metadata": {},
   "source": [
    "---"
   ]
  },
  {
   "cell_type": "markdown",
   "metadata": {},
   "source": [
    "<a class=\"anchor\" id=\"ej7\"></a>**Ejercicio 7:** \n",
    "\n",
    "([Anterior ejercicio](#ej6)) ([Próximo ejercicio](#ej8))\n",
    "\n",
    "Utilice el algoritmo `best_first_search` para solucionar el problema de las jarras de agua mediante las siguientes funciones de costo y en cada caso visualice el costo de la solución óptima:"
   ]
  },
  {
   "cell_type": "code",
   "execution_count": 75,
   "metadata": {},
   "outputs": [],
   "source": [
    "# Función 1\n",
    "def costo_uniforme(self, estado, accion):\n",
    "    return 1\n",
    "\n",
    "# Función 2\n",
    "def desperdicio(self, estado, accion):\n",
    "    x, y = estado\n",
    "    if accion == 1:\n",
    "        costo = 4 - x # usa 4-x litros de agua\n",
    "    if accion == 2:\n",
    "        costo = 3 - y # usa 3-y litros de agua\n",
    "    if accion == 3:\n",
    "        costo = x # desperdicia x litros de agua\n",
    "    if accion == 4:\n",
    "        costo = y # desperdicia y litros de agua\n",
    "    if accion == 5:\n",
    "        costo = 0\n",
    "    if accion == 6:\n",
    "        costo = 0\n",
    "    return costo"
   ]
  },
  {
   "cell_type": "markdown",
   "metadata": {},
   "source": [
    "---"
   ]
  },
  {
   "cell_type": "code",
   "execution_count": 76,
   "metadata": {},
   "outputs": [
    {
     "ename": "NameError",
     "evalue": "name 'nodes' is not defined",
     "output_type": "error",
     "traceback": [
      "\u001b[0;31m---------------------------------------------------------------------------\u001b[0m",
      "\u001b[0;31mNameError\u001b[0m                                 Traceback (most recent call last)",
      "Input \u001b[0;32mIn [76]\u001b[0m, in \u001b[0;36m<cell line: 1>\u001b[0;34m()\u001b[0m\n\u001b[0;32m----> 1\u001b[0m respuesta \u001b[38;5;241m=\u001b[39m \u001b[43mbest_first_search\u001b[49m\u001b[43m(\u001b[49m\u001b[43mprob\u001b[49m\u001b[43m,\u001b[49m\u001b[43m \u001b[49m\u001b[43mdesperdicio\u001b[49m\u001b[43m)\u001b[49m\n\u001b[1;32m      2\u001b[0m respuesta\u001b[38;5;241m.\u001b[39mtest_objetivo(respuesta\u001b[38;5;241m.\u001b[39mestado)\n",
      "Input \u001b[0;32mIn [74]\u001b[0m, in \u001b[0;36mbest_first_search\u001b[0;34m(problema, fun)\u001b[0m\n\u001b[1;32m     19\u001b[0m \u001b[38;5;28;01mif\u001b[39;00m problema\u001b[38;5;241m.\u001b[39mtest_objetivo(nodo\u001b[38;5;241m.\u001b[39mestado):\n\u001b[1;32m     20\u001b[0m     \u001b[38;5;28;01mreturn\u001b[39;00m nodo\n\u001b[0;32m---> 21\u001b[0m \u001b[38;5;28;01mfor\u001b[39;00m hijo \u001b[38;5;129;01min\u001b[39;00m \u001b[43mexpand\u001b[49m\u001b[43m(\u001b[49m\u001b[43mproblema\u001b[49m\u001b[43m,\u001b[49m\u001b[43m \u001b[49m\u001b[43mnodo\u001b[49m\u001b[43m)\u001b[49m:\n\u001b[1;32m     22\u001b[0m     estado \u001b[38;5;241m=\u001b[39m hijo\u001b[38;5;241m.\u001b[39mestado\n\u001b[1;32m     23\u001b[0m     codigo  \u001b[38;5;241m=\u001b[39m problema\u001b[38;5;241m.\u001b[39mcodigo(estado)\n",
      "Input \u001b[0;32mIn [35]\u001b[0m, in \u001b[0;36mexpand\u001b[0;34m(problema, nodo)\u001b[0m\n\u001b[1;32m      6\u001b[0m     hijo \u001b[38;5;241m=\u001b[39m nodo_hijo(problema, nodo, accion)\n\u001b[1;32m      7\u001b[0m     nodos\u001b[38;5;241m.\u001b[39mappend(hijo)\n\u001b[0;32m----> 8\u001b[0m \u001b[38;5;28;01mreturn\u001b[39;00m \u001b[43mnodes\u001b[49m\n",
      "\u001b[0;31mNameError\u001b[0m: name 'nodes' is not defined"
     ]
    }
   ],
   "source": [
    "respuesta = best_first_search(prob, desperdicio)\n",
    "respuesta.test_objetivo(respuesta.estado)"
   ]
  },
  {
   "cell_type": "markdown",
   "metadata": {},
   "source": [
    "## El problema del laberinto <a class=\"anchor\" id=\"laberinto\"></a>\n",
    "\n",
    "([Volver al inicio](#inicio))\n",
    "\n",
    "Imagine un agente dentro de un laberinto, el cual consiste de una rejilla de doce por doce casillas. El laberinto tiene solo una casilla que sirve de entrada y de salida, que es la casilla $(0,0)$. Esta es la única forma de salir o de entrar al laberinto. Cada rejilla es o bien un pasadizo o bien un muro. El agente puede moverse una casilla en dirección vertical u horizontal (nunca diagonal) siempre y cuando la casilla a la que se mueva no sea un muro o el fin de la rejilla. El agente tiene a su disposición un mapa del laberinto y la localización en la que se encuentra.\n",
    "\n",
    "<img src=\"./imagenes/laberinto1.png\" width=\"350px\"/>\n",
    "\n",
    "El problema consiste en, dada una posición dentro del laberinto, encontrar un camino que lo lleve hasta la salida."
   ]
  },
  {
   "cell_type": "markdown",
   "metadata": {},
   "source": [
    "<a class=\"anchor\" id=\"ej8\"></a>**Ejercicio 8:** \n",
    "\n",
    "([Anterior ejercicio](#ej7)) ([Próximo ejercicio](#ej9))\n",
    "\n",
    "Complete la definición formal del problema del laberinto:    \n",
    "\n",
    "* **Estado inicial**: \n",
    "\n",
    "* **Posibles acciones**: \n",
    "\n",
    "* **Función de transiciones**: \n",
    "\n",
    "* **Prueba de satisfacción del objetivo**: \n",
    "\n",
    "* **Función de costo**: "
   ]
  },
  {
   "cell_type": "markdown",
   "metadata": {},
   "source": [
    "---"
   ]
  },
  {
   "cell_type": "code",
   "execution_count": null,
   "metadata": {},
   "outputs": [],
   "source": [
    "from ambientes import Laberinto"
   ]
  },
  {
   "cell_type": "code",
   "execution_count": null,
   "metadata": {},
   "outputs": [],
   "source": [
    "inicia = (0,3)\n",
    "lab = Laberinto(inicia)\n",
    "s = lab.estado_inicial\n",
    "lab.pintar_estado(s)"
   ]
  },
  {
   "cell_type": "markdown",
   "metadata": {},
   "source": [
    "Observe que el método `pintar_camino()` permite visualizar el movimiento del agente dentro del laberinto:"
   ]
  },
  {
   "cell_type": "code",
   "execution_count": null,
   "metadata": {},
   "outputs": [],
   "source": [
    "camino = [(0,3), (0,2), (0,1), (0,0)]\n",
    "lab.pintar_camino(camino)"
   ]
  },
  {
   "cell_type": "markdown",
   "metadata": {},
   "source": [
    "<a class=\"anchor\" id=\"ej9\"></a>**Ejercicio 9:** \n",
    "\n",
    "([Anterior ejercicio](#ej8))\n",
    "\n",
    "Resuelva el problema del laberinto iniciando en la casilla $(11,11)$ mediante los métodos:\n",
    "\n",
    "* `breadth_first_search`\n",
    "* `depth_first_search`\n",
    "* `depth_limited_search`\n",
    "* `best_first_search` con la función de costo uniforme. \n",
    "\n",
    "Responda a las siguientes dos preguntas: ¿Cuál es más rápido? ¿Cuál da una solución óptima?"
   ]
  },
  {
   "cell_type": "markdown",
   "metadata": {},
   "source": [
    "---"
   ]
  },
  {
   "cell_type": "markdown",
   "metadata": {},
   "source": [
    "## En este notebook usted aprendió\n",
    "\n",
    "* Cómo realizar una búsqueda mediante los métodos *depth_limited* e *iterative_deepening* e implementarlos en python.\n",
    "* Cómo implementar una lista prioritaria en Python.\n",
    "* La incorporación del costo de las acciones y el costo del camino asociado a un nodo en un árbol de búsqueda.\n"
   ]
  }
 ],
 "metadata": {
  "colab": {
   "name": "arboles_busqueda.ipynb",
   "provenance": []
  },
  "kernelspec": {
   "display_name": "Python 3 (ipykernel)",
   "language": "python",
   "name": "python3"
  },
  "language_info": {
   "codemirror_mode": {
    "name": "ipython",
    "version": 3
   },
   "file_extension": ".py",
   "mimetype": "text/x-python",
   "name": "python",
   "nbconvert_exporter": "python",
   "pygments_lexer": "ipython3",
   "version": "3.9.2"
  }
 },
 "nbformat": 4,
 "nbformat_minor": 1
}
